{
  "nbformat": 4,
  "nbformat_minor": 0,
  "metadata": {
    "colab": {
      "provenance": [],
      "authorship_tag": "ABX9TyMu3FjOdrYMu6X6ReUAfY46",
      "include_colab_link": true
    },
    "kernelspec": {
      "name": "python3",
      "display_name": "Python 3"
    },
    "language_info": {
      "name": "python"
    }
  },
  "cells": [
    {
      "cell_type": "markdown",
      "metadata": {
        "id": "view-in-github",
        "colab_type": "text"
      },
      "source": [
        "<a href=\"https://colab.research.google.com/github/nihalgirish/nihalgirish/blob/main/basicpython.ipynb\" target=\"_parent\"><img src=\"https://colab.research.google.com/assets/colab-badge.svg\" alt=\"Open In Colab\"/></a>"
      ]
    },
    {
      "cell_type": "code",
      "execution_count": 3,
      "metadata": {
        "colab": {
          "base_uri": "https://localhost:8080/"
        },
        "id": "kFpFyR4buGi7",
        "outputId": "7bcb795f-ec01-40b1-e5da-d3ca31e48644"
      },
      "outputs": [
        {
          "output_type": "stream",
          "name": "stdout",
          "text": [
            "country: India\n",
            "capital: New Delhi\n",
            "size: 3287263 sq. km\n",
            "population: 1417 million\n"
          ]
        }
      ],
      "source": [
        "'''QUESTION 1: Variable Assignments in Python\n",
        "1. Four variables will be declared in Python: country, capital, size, and population.\n",
        "2. Assign your country’s name to the variable country, the name of the capital to the\n",
        "variable capital, the size of your country (in kilometer-squared) to the variable size,\n",
        "and the population of your country (in millions) to the variable population.\n",
        "3. Print these variables with appropriate labels.'''\n",
        "\n",
        "\n",
        "country = \"India\"\n",
        "capital = \"New Delhi\"\n",
        "size = \"3287263 sq. km\"\n",
        "population = \"1417 million\"\n",
        "\n",
        "print(\"country:\",country)\n",
        "print(\"capital:\",capital)\n",
        "print(\"size:\",size)\n",
        "print(\"population:\",population)"
      ]
    },
    {
      "cell_type": "code",
      "source": [
        "'''Question No. 2: Arithmetic Operations in Python\n",
        "What is the output of the following Arithmetic operations in Python?'''\n",
        "\n",
        "\"Q1.\"\n",
        "x1 = 45 - 12**2 * 3 + 16 // 2\n",
        "print(\"x1:\",x1)\n",
        "\n",
        "\"#Q2.\"\n",
        "x2 = (7 * 6**3) % 4 + 18 // 3 - 9\n",
        "print(\"x2:\",x2)\n",
        "\n",
        "\"#Q3.\"\n",
        "x3 = 14 + (8 * 2) - 30 // 4**2\n",
        "print(\"x3:\",x3)\n",
        "\n",
        "\"#Q4.\"\n",
        "x4= (7**2 - 4**3) * 4**2 + 10%3\n",
        "print(\"x4:\",x4)"
      ],
      "metadata": {
        "colab": {
          "base_uri": "https://localhost:8080/"
        },
        "id": "d6uWZ-vwv6b_",
        "outputId": "e9d04939-d851-4d57-c346-59431b25b050"
      },
      "execution_count": 8,
      "outputs": [
        {
          "output_type": "stream",
          "name": "stdout",
          "text": [
            "x1: -379\n",
            "x2: -3\n",
            "x3: 29\n",
            "x4: -239\n"
          ]
        }
      ]
    },
    {
      "cell_type": "code",
      "source": [
        "\"#Q1\"\n",
        "a = (12 <= 14) and (6 > 3) or (7 == 7)\n",
        "print(\"a:\",a)\n",
        "\n",
        "\"Q2\"\n",
        "b = (not(5>10)or(3==3))\n",
        "print(\"b:\",b)\n",
        "\n",
        "\"Q3\"\n",
        "c = (4!=4)and(10>9)\n",
        "print(\"c:\",c)\n",
        "\n",
        "\"Q4\"\n",
        "d = (20>5)and(5<9)and(4>=4)\n",
        "print(\"d:\",d)"
      ],
      "metadata": {
        "colab": {
          "base_uri": "https://localhost:8080/"
        },
        "id": "0tRQkjyjxa36",
        "outputId": "dc412bf8-aa2e-457d-9bdc-2ed8218f83bb"
      },
      "execution_count": 6,
      "outputs": [
        {
          "output_type": "stream",
          "name": "stdout",
          "text": [
            "a: True\n",
            "b: True\n",
            "c: False\n",
            "d: True\n"
          ]
        }
      ]
    },
    {
      "cell_type": "code",
      "source": [
        "Fruits=[\"Apple\",\"Banana\",\"Orange\",\"Grapes\",\"Mango\",\"Pineapple\"]\n",
        "Fruits.remove(\"Orange\")\n",
        "print(Fruits)"
      ],
      "metadata": {
        "colab": {
          "base_uri": "https://localhost:8080/"
        },
        "id": "UtOQsJ-HWT5C",
        "outputId": "ff660bbb-dc3d-4963-ac1b-4336a5a735be"
      },
      "execution_count": 19,
      "outputs": [
        {
          "output_type": "stream",
          "name": "stdout",
          "text": [
            "['Apple', 'Banana', 'Grapes', 'Mango', 'Pineapple']\n"
          ]
        }
      ]
    },
    {
      "cell_type": "code",
      "source": [
        "miles=float(input(\"Enter the distance in miles\"))\n",
        "km=miles*1.60934\n",
        "print(\"the givend distance converted from miles to kilometres is:\",km)"
      ],
      "metadata": {
        "colab": {
          "base_uri": "https://localhost:8080/"
        },
        "id": "nXNqfxHgurmw",
        "outputId": "0226abc4-92d9-4a3e-f129-7aa4f10a240c"
      },
      "execution_count": 29,
      "outputs": [
        {
          "output_type": "stream",
          "name": "stdout",
          "text": [
            "Enter the distance in miles789.9\n",
            "the givend distance converted from miles to kilometres is: 1271.217666\n"
          ]
        }
      ]
    },
    {
      "cell_type": "code",
      "source": [
        "grade1=float(input(\"Enter the grade of first subject\"))\n",
        "grade2=float(input(\"Enter the grade of second subject\"))\n",
        "grade3=float(input(\"Enter the grade of third subject\"))\n",
        "grade4=float(input(\"Enter the grade of fourth subject\"))\n",
        "avg_grade=(grade1+grade2+grade3+grade4)/4\n",
        "print(\"The average of the five subjects is:\",avg_grade)\n",
        "if avg_grade>60:\n",
        "  pass_status=True\n",
        "elif avg_grade<=60:\n",
        "  pass_status=False\n",
        "print(\"The pass status is:\",pass_status)"
      ],
      "metadata": {
        "colab": {
          "base_uri": "https://localhost:8080/"
        },
        "id": "z2KXncsUxVfW",
        "outputId": "eb602094-5cad-4560-a2ff-bb46f46b3181"
      },
      "execution_count": 33,
      "outputs": [
        {
          "output_type": "stream",
          "name": "stdout",
          "text": [
            "Enter the grade of first subject100\n",
            "Enter the grade of second subject80\n",
            "Enter the grade of third subject50\n",
            "Enter the grade of fourth subject0\n",
            "The average of the five subjects is: 57.5\n",
            "The pass status is: False\n"
          ]
        }
      ]
    }
  ]
}